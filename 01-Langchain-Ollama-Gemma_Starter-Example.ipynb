{
 "cells": [
  {
   "cell_type": "markdown",
   "metadata": {},
   "source": [
    "# Langchain Ollama Gemma - Starter Example\n",
    "\n",
    "https://www.youtube.com/watch?v=6oGbsAg8x5E"
   ]
  },
  {
   "cell_type": "code",
   "execution_count": 1,
   "metadata": {},
   "outputs": [],
   "source": [
    "from langchain_community.llms import Ollama \n",
    "llm = Ollama(model=\"gemma:2b\")"
   ]
  },
  {
   "cell_type": "code",
   "execution_count": 2,
   "metadata": {},
   "outputs": [
    {
     "data": {
      "text/plain": [
       "\"What do you call a guy who's always asking for directions?\\n\\nA map-nade!\""
      ]
     },
     "execution_count": 2,
     "metadata": {},
     "output_type": "execute_result"
    }
   ],
   "source": [
    "llm.invoke('Tell me a joke')"
   ]
  },
  {
   "cell_type": "code",
   "execution_count": 3,
   "metadata": {},
   "outputs": [],
   "source": [
    "from langchain_community.chat_models import ChatOllama\n",
    "\n",
    "llm = ChatOllama(model=\"gemma:2b\")"
   ]
  },
  {
   "cell_type": "code",
   "execution_count": 4,
   "metadata": {},
   "outputs": [],
   "source": [
    "from langchain_core.prompts import ChatPromptTemplate\n",
    "\n",
    "prompt = ChatPromptTemplate.from_template(\n",
    "    \"Tell me a joke about {topic}\"\n",
    ")"
   ]
  },
  {
   "cell_type": "code",
   "execution_count": 5,
   "metadata": {},
   "outputs": [],
   "source": [
    "from langchain_core.output_parsers import StrOutputParser\n",
    "\n",
    "chain = prompt | llm | StrOutputParser()"
   ]
  },
  {
   "cell_type": "code",
   "execution_count": 6,
   "metadata": {},
   "outputs": [
    {
     "name": "stdout",
     "output_type": "stream",
     "text": [
      "What do you call a space traveler who’s always running out of air?\n",
      "\n",
      "“A zero-gravity parabola.”\n"
     ]
    }
   ],
   "source": [
    "print(chain.invoke({\n",
    "    \"topic\": \"Space Travel\"\n",
    "}))"
   ]
  },
  {
   "cell_type": "code",
   "execution_count": null,
   "metadata": {},
   "outputs": [],
   "source": [
    "from langchain_community.llms import Ollama\n",
    "from langchain.callbacks.streaming_stdout import StreamingStdOutCallbackHandler\n",
    "from langchain.callbacks.manager import CallbackManager\n",
    "\n",
    "callback_manager = CallbackManager([StreamingStdOutCallbackHandler()])\n",
    "\n",
    "llm = Ollama(model=\"gemma:2b\", callbacks=callback_manager)\n",
    "\n",
    "prompt = \"Tell me about the history of AI\"\n",
    "\n",
    "response = llm.invoke(prompt)\n",
    "\n",
    "print(response)"
   ]
  },
  {
   "cell_type": "code",
   "execution_count": 4,
   "metadata": {},
   "outputs": [
    {
     "name": "stdout",
     "output_type": "stream",
     "text": [
      "\n",
      "The history of artificial intelligence (AI) can be traced back to ancient civilizations, but the modern era of AI began in the 20th century. Here's a brief overview of the history of AI:\n",
      "\n",
      "1. Ancient Origins: The concept of AI can be found in ancient mythology and folklore. For example, Greek mythology tells the story of Hephaestus, a god who created robots to assist him in his forge. Similarly, Chinese legend tells the story of a mechanical bird that was created to entertain an emperor.\n",
      "2. Early AI: The modern era of AI began in the 1950s when computer scientists like Alan Turing, Marvin Minsky, and John McCarthy started exploring the possibility of creating machines that could think and learn. In 1956, the term \"Artificial Intelligence\" was coined at a conference at Dartmouth College, where researchers agreed to define AI as \"making machines do things that would require intelligence if done by men.\"\n",
      "3. Rule-Based Expert Systems: In the 1960s and 1970s, AI research focused on developing rule-based expert systems, which were designed to mimic human decision-making processes. These systems were used in industries such as banking, healthcare, and transportation.\n",
      "4. Machine Learning: In the 1980s and 1990s, AI research shifted towards machine learning, which is a type of AI that allows machines to learn from data without being explicitly programmed. This led to the development of algorithms like decision trees and neural networks.\n",
      "5. Deep Learning: In the 2000s, AI research focused on deep learning, which is a type of machine learning that uses neural networks with multiple layers to analyze large amounts of data. This led to breakthroughs in image and speech recognition, natural language processing, and other areas.\n",
      "6. Current Trends: Today, AI research is focused on developing more advanced algorithms that can perform tasks like common sense reasoning, multi-modal learning, and explainability. Additionally, there is a growing interest in applying AI to areas such as robotics, healthcare, and education.\n",
      "7. Future Outlook: The future of AI is likely to be shaped by advancements in fields such as computer vision, natural language processing, and reinforcement learning. Some experts predict that AI will continue to become more integrated into our daily lives, leading to new applications and industries that we can't yet imagine. Others have raised concerns about the potential risks and ethical implications of AI, such as job displacement, bias, and privacy invasion.\n",
      "\n",
      "Overall, the history of AI is a story of continuous innovation and advancement, driven by the human desire to create machines that can think, learn, and improve over time. As we look towards the future, it's clear that AI will continue to play an increasingly important role in shaping our world.\n"
     ]
    }
   ],
   "source": [
    "from langchain_community.llms import Ollama\n",
    "\n",
    "llm = Ollama(model=\"llama2:13b\")\n",
    "\n",
    "prompt = \"Tell me about the history of AI\"\n",
    "\n",
    "response = llm.invoke(prompt)\n",
    "\n",
    "print(response)"
   ]
  },
  {
   "cell_type": "code",
   "execution_count": 1,
   "metadata": {},
   "outputs": [
    {
     "name": "stdout",
     "output_type": "stream",
     "text": [
      "\n",
      "Artificial intelligence (AI) has a rich and varied history that spans several decades. Here's a brief overview of some of the key milestones in the development of AI:\n",
      "\n",
      "1. 1950s: The Dartmouth Conference: The field of AI was formally established at a conference held at Dartmouth College in 1956. Attendees included computer scientists, mathematicians, and cognitive scientists who were interested in exploring the possibilities of creating machines that could simulate human intelligence.\n",
      "2. 1951: The Turing Test: British mathematician Alan Turing proposed a test to measure a machine's ability to exhibit intelligent behavior equivalent to, or indistinguishable from, that of a human. The Turing Test has since become a benchmark for measuring the success of AI systems.\n",
      "3. 1956: The First AI Program: Computer scientist John McCarthy created the first AI program, called the Logical Theorist, which was designed to reason and solve problems using logical deduction.\n",
      "4. 1960s: Rule-Based Expert Systems: The development of rule-based expert systems, which used a set of rules to reason and make decisions, marked a significant milestone in the history of AI. These systems were widely used in industries such as banking and healthcare.\n",
      "5. 1970s: Machine Learning: Machine learning, which enables machines to learn from data without being explicitly programmed, emerged as a major area of research in AI. This led to the development of algorithms such as decision trees and neural networks.\n",
      "6. 1980s: Expert Systems: The development of expert systems, which were designed to mimic the decision-making abilities of human experts, reached its peak in the 1980s. These systems were widely used in industries such as banking and healthcare.\n",
      "7. 1990s: AI Winter: Despite the progress that had been made in AI research, the field experienced a decline in funding and interest in the 1990s, which became known as the \"AI winter.\"\n",
      "8. 2000s: AI Resurgence: The 21st century saw a resurgence of interest in AI, driven by advances in computing power, data storage, and machine learning algorithms. This led to the development of applications such as speech recognition, image recognition, and natural language processing.\n",
      "9. 2010s: Deep Learning: The discovery of deep learning algorithms, which are capable of learning and improving on their own by analyzing large amounts of data, marked a significant breakthrough in AI research. These algorithms have been used to achieve state-of-the-art performance in applications such as image recognition, speech recognition, and natural language processing.\n",
      "10. Present Day: AI is now being applied in a wide range of industries, from healthcare and finance to transportation and education. The field continues to evolve, with ongoing research in areas such as reinforcement learning, transfer learning, and multitask learning.\n",
      "\n",
      "This brief history highlights some of the key milestones in the development of AI, but it is by no means exhaustive. The field has a rich and varied history, and it continues to evolve and advance today.\n",
      "Artificial intelligence (AI) has a rich and varied history that spans several decades. Here's a brief overview of some of the key milestones in the development of AI:\n",
      "\n",
      "1. 1950s: The Dartmouth Conference: The field of AI was formally established at a conference held at Dartmouth College in 1956. Attendees included computer scientists, mathematicians, and cognitive scientists who were interested in exploring the possibilities of creating machines that could simulate human intelligence.\n",
      "2. 1951: The Turing Test: British mathematician Alan Turing proposed a test to measure a machine's ability to exhibit intelligent behavior equivalent to, or indistinguishable from, that of a human. The Turing Test has since become a benchmark for measuring the success of AI systems.\n",
      "3. 1956: The First AI Program: Computer scientist John McCarthy created the first AI program, called the Logical Theorist, which was designed to reason and solve problems using logical deduction.\n",
      "4. 1960s: Rule-Based Expert Systems: The development of rule-based expert systems, which used a set of rules to reason and make decisions, marked a significant milestone in the history of AI. These systems were widely used in industries such as banking and healthcare.\n",
      "5. 1970s: Machine Learning: Machine learning, which enables machines to learn from data without being explicitly programmed, emerged as a major area of research in AI. This led to the development of algorithms such as decision trees and neural networks.\n",
      "6. 1980s: Expert Systems: The development of expert systems, which were designed to mimic the decision-making abilities of human experts, reached its peak in the 1980s. These systems were widely used in industries such as banking and healthcare.\n",
      "7. 1990s: AI Winter: Despite the progress that had been made in AI research, the field experienced a decline in funding and interest in the 1990s, which became known as the \"AI winter.\"\n",
      "8. 2000s: AI Resurgence: The 21st century saw a resurgence of interest in AI, driven by advances in computing power, data storage, and machine learning algorithms. This led to the development of applications such as speech recognition, image recognition, and natural language processing.\n",
      "9. 2010s: Deep Learning: The discovery of deep learning algorithms, which are capable of learning and improving on their own by analyzing large amounts of data, marked a significant breakthrough in AI research. These algorithms have been used to achieve state-of-the-art performance in applications such as image recognition, speech recognition, and natural language processing.\n",
      "10. Present Day: AI is now being applied in a wide range of industries, from healthcare and finance to transportation and education. The field continues to evolve, with ongoing research in areas such as reinforcement learning, transfer learning, and multitask learning.\n",
      "\n",
      "This brief history highlights some of the key milestones in the development of AI, but it is by no means exhaustive. The field has a rich and varied history, and it continues to evolve and advance today.\n"
     ]
    }
   ],
   "source": [
    "from langchain_community.llms import Ollama\n",
    "from langchain.callbacks.streaming_stdout import StreamingStdOutCallbackHandler\n",
    "from langchain.callbacks.manager import CallbackManager\n",
    "\n",
    "callback_manager = CallbackManager([StreamingStdOutCallbackHandler()])\n",
    "\n",
    "llm = Ollama(model=\"llama2:13b\", callbacks=callback_manager)\n",
    "\n",
    "prompt = \"Tell me about the history of AI\"\n",
    "\n",
    "response = llm.invoke(prompt)\n",
    "\n",
    "print(response)"
   ]
  }
 ],
 "metadata": {
  "kernelspec": {
   "display_name": "ollama",
   "language": "python",
   "name": "python3"
  },
  "language_info": {
   "codemirror_mode": {
    "name": "ipython",
    "version": 3
   },
   "file_extension": ".py",
   "mimetype": "text/x-python",
   "name": "python",
   "nbconvert_exporter": "python",
   "pygments_lexer": "ipython3",
   "version": "3.11.8"
  }
 },
 "nbformat": 4,
 "nbformat_minor": 2
}
