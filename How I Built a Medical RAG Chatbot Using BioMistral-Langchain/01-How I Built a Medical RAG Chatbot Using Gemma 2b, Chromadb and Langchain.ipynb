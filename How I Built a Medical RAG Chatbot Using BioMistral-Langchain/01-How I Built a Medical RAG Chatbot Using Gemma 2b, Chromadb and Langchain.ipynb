{
 "cells": [
  {
   "cell_type": "markdown",
   "metadata": {},
   "source": [
    "# How I Built a Medical RAG Chatbot Using BioMistral|Langchain | FREE Colab|ALL OPENSOURCE #ai\n",
    "\n",
    "https://www.youtube.com/watch?v=E53hc-jcUeE"
   ]
  },
  {
   "cell_type": "markdown",
   "metadata": {},
   "source": [
    "## Import Libraries"
   ]
  },
  {
   "cell_type": "code",
   "execution_count": 1,
   "metadata": {},
   "outputs": [],
   "source": [
    "from langchain_community.document_loaders import PyPDFDirectoryLoader\n",
    "from langchain.text_splitter import CharacterTextSplitter,RecursiveCharacterTextSplitter\n",
    "from langchain_community.embeddings import HuggingFaceEmbeddings\n",
    "from langchain.vectorstores import FAISS, Chroma\n",
    "from langchain_community.llms import LlamaCpp\n",
    "\n",
    "from langchain.chains import RetrievalQA, LLMChain\n",
    "from langchain.schema.runnable import RunnablePassthrough\n",
    "from langchain.schema.output_parser import StrOutputParser\n",
    "from langchain.prompts import ChatPromptTemplate\n",
    "\n",
    "from langchain_community.llms import Ollama \n",
    "\n",
    "\n",
    "import pathlib\n",
    "import textwrap\n",
    "from IPython.display import display\n",
    "from IPython.display import Markdown"
   ]
  },
  {
   "cell_type": "markdown",
   "metadata": {},
   "source": [
    "## Functions"
   ]
  },
  {
   "cell_type": "code",
   "execution_count": 2,
   "metadata": {},
   "outputs": [],
   "source": [
    "def to_markdown(text):\n",
    "  text = text.replace('•', '  *')\n",
    "  return Markdown(textwrap.indent(text, '> ', predicate=lambda _: True))"
   ]
  },
  {
   "cell_type": "markdown",
   "metadata": {},
   "source": [
    "## Import Document"
   ]
  },
  {
   "cell_type": "code",
   "execution_count": 3,
   "metadata": {},
   "outputs": [],
   "source": [
    "loader = PyPDFDirectoryLoader(\"pdfs/\")\n",
    "docs = loader.load()"
   ]
  },
  {
   "cell_type": "markdown",
   "metadata": {},
   "source": [
    "## Text Splitting - Chunking"
   ]
  },
  {
   "cell_type": "code",
   "execution_count": 4,
   "metadata": {},
   "outputs": [],
   "source": [
    "text_splitter = RecursiveCharacterTextSplitter(chunk_size=300, chunk_overlap=50)\n",
    "chunks = text_splitter.split_documents(docs)"
   ]
  },
  {
   "cell_type": "code",
   "execution_count": null,
   "metadata": {},
   "outputs": [
    {
     "data": {
      "text/plain": [
       "747"
      ]
     },
     "execution_count": 5,
     "metadata": {},
     "output_type": "execute_result"
    }
   ],
   "source": [
    "print(f'Número de chunks: {len(chunks)}')\n",
    "print(f'Exemplo de chunk: {chunks[0]}')"
   ]
  },
  {
   "cell_type": "markdown",
   "metadata": {},
   "source": [
    "## Embeddings"
   ]
  },
  {
   "cell_type": "code",
   "execution_count": 7,
   "metadata": {},
   "outputs": [],
   "source": [
    "embeddings = HuggingFaceEmbeddings(model_name=\"BAAI/bge-base-en-v1.5\")"
   ]
  },
  {
   "cell_type": "markdown",
   "metadata": {},
   "source": [
    "## Vector Store - ChromaDB"
   ]
  },
  {
   "cell_type": "code",
   "execution_count": 8,
   "metadata": {},
   "outputs": [
    {
     "data": {
      "text/plain": [
       "<langchain_community.vectorstores.chroma.Chroma at 0x1fb05643850>"
      ]
     },
     "execution_count": 8,
     "metadata": {},
     "output_type": "execute_result"
    }
   ],
   "source": [
    "vectorstore = Chroma.from_documents(chunks, embeddings)\n",
    "vectorstore"
   ]
  },
  {
   "cell_type": "code",
   "execution_count": 9,
   "metadata": {},
   "outputs": [
    {
     "data": {
      "text/markdown": [
       "> Heart Disease: Why Should You Care? . . . . . . . . . . . . . . . . . . . . . . . . . . . . 1\n",
       "> What You Need To Know About Heart Disease . . . . . . . . . . . . . . . . . . . . . . 3"
      ],
      "text/plain": [
       "<IPython.core.display.Markdown object>"
      ]
     },
     "execution_count": 9,
     "metadata": {},
     "output_type": "execute_result"
    }
   ],
   "source": [
    "query = \"Why should I care about my heart health?\"\n",
    "search = vectorstore.similarity_search(query)\n",
    "to_markdown(search[0].page_content)"
   ]
  },
  {
   "cell_type": "markdown",
   "metadata": {},
   "source": [
    "## Retriever"
   ]
  },
  {
   "cell_type": "code",
   "execution_count": 10,
   "metadata": {},
   "outputs": [],
   "source": [
    "retriever = vectorstore.as_retriever(\n",
    "    search_kwargs={'k': 5}\n",
    ")"
   ]
  },
  {
   "cell_type": "code",
   "execution_count": 11,
   "metadata": {},
   "outputs": [
    {
     "data": {
      "text/plain": [
       "[Document(page_content='Heart Disease: Why Should You Care? . . . . . . . . . . . . . . . . . . . . . . . . . . . . 1\\nWhat You Need To Know About Heart Disease . . . . . . . . . . . . . . . . . . . . . . 3', metadata={'page': 3, 'source': 'pdfs\\\\healthyheart.pdf'}),\n",
       " Document(page_content='It may be tempting to believe that doing just one healthy thing willtake care of your heart disease risk. For example, you may hopethat if you walk or swim regularly, you can still eat a lot of fattyfoods and stay fairly healthy. Not true. To protect your heart, it isvital to make changes that', metadata={'page': 8, 'source': 'pdfs\\\\healthyheart.pdf'}),\n",
       " Document(page_content='2\\nThese facts may seem frightening, but they need not be. The good\\nnews is that you have a lot of power to protect and improve yourheart health. This guidebook will help you find out your own riskof heart disease and take steps to prevent it.', metadata={'page': 6, 'source': 'pdfs\\\\healthyheart.pdf'}),\n",
       " Document(page_content='Why Should You Care?', metadata={'page': 5, 'source': 'pdfs\\\\healthyheart.pdf'}),\n",
       " Document(page_content='heart. It’s also never tooearly. The sooner you act, the better. So use this guidebook to findout more about the state of your heart, and to learn about hearthealthy living. Talk with your doctor to get more information.Start taking action to improve your heart health today.Your Guide to a Healthy', metadata={'page': 6, 'source': 'pdfs\\\\healthyheart.pdf'})]"
      ]
     },
     "execution_count": 11,
     "metadata": {},
     "output_type": "execute_result"
    }
   ],
   "source": [
    "retriever.get_relevant_documents(query)"
   ]
  },
  {
   "cell_type": "markdown",
   "metadata": {},
   "source": [
    "## Large Language Model - Open Source - Gemma:2b"
   ]
  },
  {
   "cell_type": "code",
   "execution_count": 12,
   "metadata": {},
   "outputs": [],
   "source": [
    "llm = Ollama(model=\"gemma:2b\")"
   ]
  },
  {
   "cell_type": "markdown",
   "metadata": {},
   "source": [
    "## RAG Chain"
   ]
  },
  {
   "cell_type": "code",
   "execution_count": 14,
   "metadata": {},
   "outputs": [],
   "source": [
    "template = \"\"\"\n",
    "<|context|>\n",
    "You are an AI Health assistant that follows instruction extremely well.\n",
    "Please be truthful and give direct answers\n",
    "</s>\n",
    "<|user|>\n",
    "{query}\n",
    "</s>\n",
    " <|assistant|>\n",
    "\"\"\""
   ]
  },
  {
   "cell_type": "code",
   "execution_count": 15,
   "metadata": {},
   "outputs": [],
   "source": [
    "prompt = ChatPromptTemplate.from_template(template)"
   ]
  },
  {
   "cell_type": "code",
   "execution_count": 16,
   "metadata": {},
   "outputs": [],
   "source": [
    "rag_chain = (\n",
    "    {\"context\": retriever,  \"query\": RunnablePassthrough()}\n",
    "    | prompt\n",
    "    | llm\n",
    "    | StrOutputParser()\n",
    ")"
   ]
  },
  {
   "cell_type": "code",
   "execution_count": 17,
   "metadata": {},
   "outputs": [],
   "source": [
    "response = rag_chain.invoke(\"Why should I care about my heart health?\")"
   ]
  },
  {
   "cell_type": "code",
   "execution_count": 18,
   "metadata": {},
   "outputs": [
    {
     "data": {
      "text/markdown": [
       "> Your heart is a vital organ that plays a crucial role in maintaining your overall health and well-being. Some of the reasons why it's important to prioritize your heart health include:\n",
       "> \n",
       "> * **Reduced risk of cardiovascular diseases:** Heart disease is the leading cause of death worldwide, and taking steps to maintain a healthy heart can significantly reduce your risk of developing this condition.\n",
       "> * **Improved quality of life:** A healthy heart can help you enjoy a higher quality of life by reducing symptoms such as shortness of breath, fatigue, and pain.\n",
       "> * **Increased lifespan:** Studies have shown that people with heart health conditions tend to live longer and healthier lives.\n",
       "> * **Reduced risk of stroke:** High blood pressure, cholesterol levels, and other risk factors associated with heart disease can increase your chances of stroke.\n",
       "> * **Improved cognitive function:** Research suggests a possible link between heart health and cognitive function, with a healthy heart associated with improved memory, attention, and concentration.\n",
       "> * **Protection against chronic diseases:** Heart disease can increase your risk of developing other chronic diseases such as diabetes, obesity, and cancer.\n",
       "> * **Peace of mind:** Knowing you have taken steps to prioritize your heart health can provide you with peace of mind and reduce your stress levels."
      ],
      "text/plain": [
       "<IPython.core.display.Markdown object>"
      ]
     },
     "execution_count": 18,
     "metadata": {},
     "output_type": "execute_result"
    }
   ],
   "source": [
    "to_markdown(response)"
   ]
  },
  {
   "cell_type": "code",
   "execution_count": null,
   "metadata": {},
   "outputs": [],
   "source": []
  },
  {
   "cell_type": "code",
   "execution_count": null,
   "metadata": {},
   "outputs": [],
   "source": []
  }
 ],
 "metadata": {
  "kernelspec": {
   "display_name": "ollama",
   "language": "python",
   "name": "python3"
  },
  "language_info": {
   "codemirror_mode": {
    "name": "ipython",
    "version": 3
   },
   "file_extension": ".py",
   "mimetype": "text/x-python",
   "name": "python",
   "nbconvert_exporter": "python",
   "pygments_lexer": "ipython3",
   "version": "3.11.8"
  }
 },
 "nbformat": 4,
 "nbformat_minor": 2
}
